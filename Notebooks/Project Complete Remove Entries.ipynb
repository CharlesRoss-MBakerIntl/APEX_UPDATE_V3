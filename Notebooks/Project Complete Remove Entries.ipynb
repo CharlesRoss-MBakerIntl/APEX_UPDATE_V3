{
 "cells": [
  {
   "cell_type": "code",
   "execution_count": 4,
   "metadata": {},
   "outputs": [],
   "source": [
    "from agol_restapi_tools import token_generation\n",
    "from agol_restapi_tools import agol_table_to_pd\n",
    "from agol_restapi_tools import oid_field\n",
    "\n",
    "import requests\n",
    "import pandas as pd\n",
    "import datetime\n",
    "from pytz import timezone\n",
    "import pytz\n",
    "import json\n",
    "\n",
    "import csv\n",
    "from datetime import datetime, timedelta\n",
    "\n",
    "#Survey URL\n",
    "survey_url = 'https://services.arcgis.com/r4A0V7UzH9fcLVvv/arcgis/rest/services/APEX_FORM_VIEW/FeatureServer'\n",
    "\n",
    "#Starts URL\n",
    "starts_url = \"https://services.arcgis.com/r4A0V7UzH9fcLVvv/arcgis/rest/services/Start_Points/FeatureServer\"\n",
    "\n",
    "#Ends URL\n",
    "ends_url = \"https://services.arcgis.com/r4A0V7UzH9fcLVvv/arcgis/rest/services/End_Points/FeatureServer\"\n",
    "\n",
    "#Projects URL\n",
    "projects_url= \"https://services.arcgis.com/r4A0V7UzH9fcLVvv/arcgis/rest/services/CY2023_Project_Polygons_notcleaned/FeatureServer\"\n",
    "\n",
    "#Project Points URL\n",
    "points_url = \"https://services.arcgis.com/r4A0V7UzH9fcLVvv/arcgis/rest/services/CY2023_Project_Points/FeatureServer\"\n",
    "\n",
    "#Alert Logbook URL\n",
    "alert_log_url = \"https://services.arcgis.com/r4A0V7UzH9fcLVvv/arcgis/rest/services/emailed_managers_log/FeatureServer\"\n",
    "\n",
    "#Update Logbook URL\n",
    "update_log_url = \"https://services.arcgis.com/r4A0V7UzH9fcLVvv/arcgis/rest/services/update_log/FeatureServer\"\n",
    "\n",
    "#Alaska 511 Management URL\n",
    "management_url = \"https://services.arcgis.com/r4A0V7UzH9fcLVvv/arcgis/rest/services/AK_511_Management/FeatureServer\"\n",
    "\n",
    "#Set Token\n",
    "token = token_generation(username = \"AKDOT_COMMUNICATIONS\", password = 'Skisnowbird1')"
   ]
  },
  {
   "cell_type": "code",
   "execution_count": 2,
   "metadata": {},
   "outputs": [],
   "source": [
    "proj_del = ['154','131','27']"
   ]
  },
  {
   "attachments": {},
   "cell_type": "markdown",
   "metadata": {},
   "source": [
    "### Delete from Survey"
   ]
  },
  {
   "cell_type": "code",
   "execution_count": null,
   "metadata": {},
   "outputs": [],
   "source": [
    "survey = agol_table_to_pd(survey_url, 0, token)\n",
    "\n",
    "for uid in proj_del:\n",
    "\n",
    "    sel = survey[survey['UID'] == f'{uid}']\n",
    "\n",
    "    del_list = []\n",
    "\n",
    "    for index, row in sel.iterrows():\n",
    "        del_list.append(row['objectid'])\n",
    "\n",
    "    url = f'{survey_url}/0/applyEdits'\n",
    "\n",
    "    params = {\n",
    "        'f':'json',\n",
    "        'token':token,\n",
    "        'deletes':del_list\n",
    "    }\n",
    "\n",
    "    response = requests.post(url, params).json()"
   ]
  },
  {
   "cell_type": "code",
   "execution_count": null,
   "metadata": {},
   "outputs": [],
   "source": [
    "response.get('deleteResults')[0]['success']"
   ]
  },
  {
   "attachments": {},
   "cell_type": "markdown",
   "metadata": {},
   "source": [
    "### Delete From AK511 Management Table"
   ]
  },
  {
   "cell_type": "code",
   "execution_count": null,
   "metadata": {},
   "outputs": [],
   "source": [
    "management = agol_table_to_pd(management_url, 0, token)\n",
    "\n",
    "for uid in proj_del:\n",
    "\n",
    "    sel = management[management['UID'] == int(uid)]\n",
    "\n",
    "    del_list = []\n",
    "\n",
    "    for index, row in sel.iterrows():\n",
    "        del_list.append(row['OBJECTID'])\n",
    "\n",
    "    url = f'{management_url}/0/applyEdits'\n",
    "\n",
    "    params = {\n",
    "        'f':'json',\n",
    "        'token':token,\n",
    "        'deletes':del_list\n",
    "    }\n",
    "\n",
    "    response = requests.post(url, params).json()\n",
    "\n",
    "    print(response.get('deleteResults'))"
   ]
  },
  {
   "attachments": {},
   "cell_type": "markdown",
   "metadata": {},
   "source": [
    "### Delete from Start Points"
   ]
  },
  {
   "cell_type": "code",
   "execution_count": null,
   "metadata": {},
   "outputs": [],
   "source": [
    "starts = agol_table_to_pd(starts_url, 0, token)\n",
    "\n",
    "for uid in proj_del:\n",
    "\n",
    "    sel = starts[starts['UID'] == int(uid)]\n",
    "\n",
    "    del_list = []\n",
    "\n",
    "    for index, row in sel.iterrows():\n",
    "        del_list.append(row['OBJECTID'])\n",
    "\n",
    "    url = f'{starts_url}/0/applyEdits'\n",
    "\n",
    "    params = {\n",
    "        'f':'json',\n",
    "        'token':token,\n",
    "        'deletes':del_list\n",
    "    }\n",
    "\n",
    "    response = requests.post(url, params).json()\n",
    "\n",
    "    print(response.get('deleteResults'))"
   ]
  },
  {
   "attachments": {},
   "cell_type": "markdown",
   "metadata": {},
   "source": [
    "### Delete from End Points"
   ]
  },
  {
   "cell_type": "code",
   "execution_count": null,
   "metadata": {},
   "outputs": [],
   "source": [
    "ends = agol_table_to_pd(ends_url, 0, token)\n",
    "\n",
    "for uid in proj_del:\n",
    "\n",
    "    sel = ends[ends['UID'] == int(uid)]\n",
    "\n",
    "    del_list = []\n",
    "\n",
    "    for index, row in sel.iterrows():\n",
    "        del_list.append(row['OBJECTID'])\n",
    "\n",
    "    url = f'{ends_url}/0/applyEdits'\n",
    "\n",
    "    params = {\n",
    "        'f':'json',\n",
    "        'token':token,\n",
    "        'deletes':del_list\n",
    "    }\n",
    "\n",
    "    response = requests.post(url, params).json()\n",
    "\n",
    "    print(response.get('deleteResults'))"
   ]
  },
  {
   "attachments": {},
   "cell_type": "markdown",
   "metadata": {},
   "source": [
    "### Delete from Master Project Table"
   ]
  },
  {
   "cell_type": "code",
   "execution_count": null,
   "metadata": {},
   "outputs": [],
   "source": [
    "projects = agol_table_to_pd(projects_url, 0, token)\n",
    "\n",
    "for uid in proj_del:\n",
    "\n",
    "    sel = projects[projects['Unique_ID'] == int(uid)]\n",
    "\n",
    "    del_list = []\n",
    "\n",
    "    for index, row in sel.iterrows():\n",
    "        del_list.append(row['OBJECTID'])\n",
    "\n",
    "    url = f'{projects_url}/0/applyEdits'\n",
    "\n",
    "    params = {\n",
    "        'f':'json',\n",
    "        'token':token,\n",
    "        'deletes':del_list\n",
    "    }\n",
    "\n",
    "    response = requests.post(url, params).json()\n",
    "\n",
    "    print(response.get('deleteResults'))"
   ]
  },
  {
   "attachments": {},
   "cell_type": "markdown",
   "metadata": {},
   "source": [
    "### Delete Entries from Master Point Layer\n"
   ]
  },
  {
   "cell_type": "code",
   "execution_count": 11,
   "metadata": {},
   "outputs": [
    {
     "name": "stdout",
     "output_type": "stream",
     "text": [
      "[{'objectId': 245, 'uniqueId': 245, 'globalId': None, 'success': True}]\n",
      "[{'objectId': 212, 'uniqueId': 212, 'globalId': None, 'success': True}]\n",
      "[{'objectId': 134, 'uniqueId': 134, 'globalId': None, 'success': True}]\n"
     ]
    }
   ],
   "source": [
    "points = agol_table_to_pd(points_url, 57, token)\n",
    "\n",
    "for uid in proj_del:\n",
    "\n",
    "    sel = points[points['Unique_ID'] == int(uid)]\n",
    "\n",
    "    del_list = []\n",
    "\n",
    "    for index, row in sel.iterrows():\n",
    "        del_list.append(row['OBJECTID'])\n",
    "\n",
    "    url = f'{points_url}/57/applyEdits'\n",
    "\n",
    "    params = {\n",
    "        'f':'json',\n",
    "        'token':token,\n",
    "        'deletes':del_list\n",
    "    }\n",
    "\n",
    "    response = requests.post(url, params).json()\n",
    "\n",
    "    print(response.get('deleteResults'))"
   ]
  }
 ],
 "metadata": {
  "kernelspec": {
   "display_name": "dot_table_update",
   "language": "python",
   "name": "python3"
  },
  "language_info": {
   "codemirror_mode": {
    "name": "ipython",
    "version": 3
   },
   "file_extension": ".py",
   "mimetype": "text/x-python",
   "name": "python",
   "nbconvert_exporter": "python",
   "pygments_lexer": "ipython3",
   "version": "3.9.16"
  },
  "orig_nbformat": 4
 },
 "nbformat": 4,
 "nbformat_minor": 2
}
