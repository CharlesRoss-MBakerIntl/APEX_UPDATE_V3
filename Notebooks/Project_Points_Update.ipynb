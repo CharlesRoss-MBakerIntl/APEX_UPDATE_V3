{
 "cells": [
  {
   "cell_type": "code",
   "execution_count": 1,
   "metadata": {},
   "outputs": [],
   "source": [
    "from agol_restapi_tools import token_generation\n",
    "from agol_restapi_tools import agol_table_to_pd\n",
    "from agol_restapi_tools import oid_field\n",
    "from agol_restapi_tools import locate_objectid\n",
    "from agol_restapi_tools import pd_to_attributes_list\n",
    "\n",
    "import requests\n",
    "import pandas as pd\n",
    "import datetime\n",
    "from pytz import timezone\n",
    "import pytz\n",
    "import json\n",
    "\n",
    "import csv\n",
    "from datetime import datetime, timedelta\n",
    "\n",
    "#Survey URL\n",
    "survey_url = 'https://services.arcgis.com/r4A0V7UzH9fcLVvv/arcgis/rest/services/APEX_FORM_VIEW/FeatureServer'\n",
    "\n",
    "#Starts URL\n",
    "starts_url = \"https://services.arcgis.com/r4A0V7UzH9fcLVvv/arcgis/rest/services/Start_Points/FeatureServer\"\n",
    "\n",
    "#Ends URL\n",
    "ends_url = \"https://services.arcgis.com/r4A0V7UzH9fcLVvv/arcgis/rest/services/End_Points/FeatureServer\"\n",
    "\n",
    "#Projects URL\n",
    "projects_url= \"https://services.arcgis.com/r4A0V7UzH9fcLVvv/arcgis/rest/services/CY2023_Project_Polygons_notcleaned/FeatureServer\"\n",
    "\n",
    "#Alert Logbook URL\n",
    "alert_log_url = \"https://services.arcgis.com/r4A0V7UzH9fcLVvv/arcgis/rest/services/emailed_managers_log/FeatureServer\"\n",
    "\n",
    "#Update Logbook URL\n",
    "update_log_url = \"https://services.arcgis.com/r4A0V7UzH9fcLVvv/arcgis/rest/services/update_log/FeatureServer\"\n",
    "\n",
    "#Alaska 511 Management URL\n",
    "management_url = \"https://services.arcgis.com/r4A0V7UzH9fcLVvv/arcgis/rest/services/AK_511_Management/FeatureServer\"\n",
    "\n",
    "#Set Token\n",
    "token = token_generation(username = \"AKDOT_COMMUNICATIONS\", password = 'Skisnowbird1')"
   ]
  },
  {
   "cell_type": "code",
   "execution_count": 2,
   "metadata": {},
   "outputs": [],
   "source": [
    "projects = agol_table_to_pd(projects_url, 0, token)"
   ]
  },
  {
   "cell_type": "code",
   "execution_count": 3,
   "metadata": {},
   "outputs": [],
   "source": [
    "projects = projects[projects['Unique_ID'] == 117]"
   ]
  },
  {
   "cell_type": "code",
   "execution_count": 4,
   "metadata": {},
   "outputs": [],
   "source": [
    "points_url = \"https://services.arcgis.com/r4A0V7UzH9fcLVvv/arcgis/rest/services/CY2023_Project_Points/FeatureServer\"\n",
    "points = agol_table_to_pd(points_url, 57, token)"
   ]
  },
  {
   "cell_type": "code",
   "execution_count": 5,
   "metadata": {},
   "outputs": [
    {
     "name": "stdout",
     "output_type": "stream",
     "text": [
      "{'addResults': [], 'updateResults': [{'objectId': 261, 'uniqueId': 261, 'globalId': None, 'success': True}], 'deleteResults': []}\n"
     ]
    }
   ],
   "source": [
    "#Add new project data one at a time\n",
    "for index, row in projects.iterrows():\n",
    "    lat = row['Latitude']\n",
    "    lng = row['Longitude']\n",
    "\n",
    "    data = pd.DataFrame(row).T\n",
    "\n",
    "    data.drop(columns = ['Shape__Area', 'Shape__Length'], inplace = True)\n",
    "\n",
    "    \n",
    "\n",
    "    payload = pd_to_attributes_list(pd.DataFrame(row).T)\n",
    "    \n",
    "    for key, value in payload[0]['attributes'].items():\n",
    "            if type(value) == str:\n",
    "                if '\\xa0' in value:\n",
    "                    value = value.replace('\\xa0', '')\n",
    "                    payload[0]['attributes'][key] = value\n",
    "\n",
    "                    \n",
    "    url = f\"{points_url}/57/applyEdits\"\n",
    "\n",
    "    params = {\n",
    "        'f': 'json',\n",
    "        'token': token,\n",
    "        'adds':f'{payload}'\n",
    "    }\n",
    "\n",
    "\n",
    "    response = requests.post(url, params).json()\n",
    "\n",
    "    objectid = response['addResults'][0]['objectId']\n",
    "\n",
    "    geo_payload =  [\n",
    "        {\n",
    "        \"geometry\": {\n",
    "            \"x\": lng,\n",
    "            \"y\": lat,\n",
    "            'spatialReference': {\n",
    "                'wkid': 4326 }\n",
    "        },\n",
    "        \"attributes\": {\n",
    "            'OBJECTID': objectid\n",
    "        } \n",
    "        } \n",
    "            ]\n",
    "    \n",
    "    geo_params = {\n",
    "                'f':'json',\n",
    "                'token': token,\n",
    "                'updates':f'{geo_payload}'\n",
    "            }\n",
    "    \n",
    "    print(requests.post(url, geo_params).json())"
   ]
  },
  {
   "cell_type": "code",
   "execution_count": null,
   "metadata": {},
   "outputs": [],
   "source": [
    "geo_payload =  [\n",
    "        {\n",
    "        \"geometry\": {\n",
    "            \"x\": lng,\n",
    "            \"y\": lat,\n",
    "            # 'spatialReference': {\n",
    "            #     'wkid': 4326 }\n",
    "        },\n",
    "        \"attributes\": {\n",
    "            '': ''\n",
    "        } \n",
    "        } \n",
    "            ]"
   ]
  },
  {
   "cell_type": "code",
   "execution_count": 89,
   "metadata": {},
   "outputs": [
    {
     "data": {
      "text/plain": [
       "Index(['OBJECTID', 'Unique_ID', 'Project_Name', 'IRIS_Number',\n",
       "       'Federal_Project_Number', 'STIP_ID', 'Route_ID', 'Route_Name',\n",
       "       'Project_Description', 'Project_Purpose', 'Project_Website',\n",
       "       'Project_Engineer_Email', 'Design_Engineer', 'Design_Engineer_Phone',\n",
       "       'Construction_Engineer', 'Construction_Engineer_Phone',\n",
       "       'Contract_Value', 'Anticipated_Start', 'Anticipated_End',\n",
       "       'Project_Practice', 'Funding_Type', 'Project_Location', 'Project_Limit',\n",
       "       'Project_Impact', 'Construction_Description', 'Start_Milepost',\n",
       "       'End_Milepost', 'DOT_PF_Region', 'Borough_CensusArea',\n",
       "       'State_House_District', 'State_Senate_District',\n",
       "       'Project_Priority_Area', 'Longitude', 'Latitude', 'Video_URL',\n",
       "       'Creation_Date', 'Creator', 'Edit_Date', 'Editor'],\n",
       "      dtype='object')"
      ]
     },
     "execution_count": 89,
     "metadata": {},
     "output_type": "execute_result"
    }
   ],
   "source": [
    "points.columns"
   ]
  }
 ],
 "metadata": {
  "kernelspec": {
   "display_name": "dot_table_update",
   "language": "python",
   "name": "python3"
  },
  "language_info": {
   "codemirror_mode": {
    "name": "ipython",
    "version": 3
   },
   "file_extension": ".py",
   "mimetype": "text/x-python",
   "name": "python",
   "nbconvert_exporter": "python",
   "pygments_lexer": "ipython3",
   "version": "3.9.16"
  },
  "orig_nbformat": 4
 },
 "nbformat": 4,
 "nbformat_minor": 2
}
